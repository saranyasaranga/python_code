{
 "cells": [
  {
   "cell_type": "code",
   "execution_count": 3,
   "id": "d5df36bb-d90d-4a5b-b9b0-59f869b4557d",
   "metadata": {},
   "outputs": [
    {
     "name": "stdout",
     "output_type": "stream",
     "text": [
      "this is a hp laptop\n"
     ]
    }
   ],
   "source": [
    "class laptop:\n",
    "    def config(self):\n",
    "        print(\"this is a hp laptop\")\n",
    "hp=laptop()\n",
    "hp.config()\n",
    "        "
   ]
  },
  {
   "cell_type": "markdown",
   "id": "3dbc2044-e76b-4904-b3c1-1e15550c4fcf",
   "metadata": {},
   "source": [
    "create a laptop class with variable as processor,ram and storage\n",
    "create function to print the configuration of the laptops\n",
    "create 3 object of laptop with different brand and display its configuration"
   ]
  },
  {
   "cell_type": "code",
   "execution_count": 1,
   "id": "9f1643b7-9a03-41a2-bfe6-05956f848f3a",
   "metadata": {},
   "outputs": [
    {
     "name": "stdout",
     "output_type": "stream",
     "text": [
      "configuration of laptop is:\n",
      "processor i5\n",
      "ram 8\n",
      "storage 512\n"
     ]
    }
   ],
   "source": [
    "class laptop:\n",
    "    def __init__(self,p,r,s):\n",
    "        self.processor=p\n",
    "        self.ram=r\n",
    "        self.storage=s\n",
    "    def config(self):\n",
    "        print(\"configuration of laptop is:\")\n",
    "        print(\"processor\",self.processor)\n",
    "        print(\"ram\",self.ram)\n",
    "        print(\"storage\",self.storage)\n",
    "if __name__==\"__main__\":\n",
    "    hp=laptop(\"i5\",8,512)\n",
    "    hp.config()"
   ]
  },
  {
   "cell_type": "code",
   "execution_count": 24,
   "id": "88cd5653-5639-4022-8e71-34cf036ddd99",
   "metadata": {},
   "outputs": [
    {
     "name": "stdout",
     "output_type": "stream",
     "text": [
      "average of students\n",
      "science 20\n",
      "social 90\n",
      "hindi 80\n"
     ]
    },
    {
     "ename": "TypeError",
     "evalue": "unsupported operand type(s) for /: 'builtin_function_or_method' and 'int'",
     "output_type": "error",
     "traceback": [
      "\u001b[1;31m---------------------------------------------------------------------------\u001b[0m",
      "\u001b[1;31mTypeError\u001b[0m                                 Traceback (most recent call last)",
      "Cell \u001b[1;32mIn[24], line 18\u001b[0m\n\u001b[0;32m     16\u001b[0m \u001b[38;5;28;01mif\u001b[39;00m \u001b[38;5;18m__name__\u001b[39m\u001b[38;5;241m==\u001b[39m\u001b[38;5;124m\"\u001b[39m\u001b[38;5;124m__main__\u001b[39m\u001b[38;5;124m\"\u001b[39m:\n\u001b[0;32m     17\u001b[0m     ram\u001b[38;5;241m=\u001b[39mstudent(\u001b[38;5;241m20\u001b[39m,\u001b[38;5;241m90\u001b[39m,\u001b[38;5;241m80\u001b[39m)\n\u001b[1;32m---> 18\u001b[0m     \u001b[43mram\u001b[49m\u001b[38;5;241;43m.\u001b[39;49m\u001b[43maverage\u001b[49m\u001b[43m(\u001b[49m\u001b[43m)\u001b[49m\n",
      "Cell \u001b[1;32mIn[24], line 14\u001b[0m, in \u001b[0;36mstudent.average\u001b[1;34m(self)\u001b[0m\n\u001b[0;32m     11\u001b[0m \u001b[38;5;28mprint\u001b[39m(\u001b[38;5;124m\"\u001b[39m\u001b[38;5;124msocial\u001b[39m\u001b[38;5;124m\"\u001b[39m,\u001b[38;5;28mself\u001b[39m\u001b[38;5;241m.\u001b[39msocial)\n\u001b[0;32m     12\u001b[0m \u001b[38;5;28mprint\u001b[39m(\u001b[38;5;124m\"\u001b[39m\u001b[38;5;124mhindi\u001b[39m\u001b[38;5;124m\"\u001b[39m,\u001b[38;5;28mself\u001b[39m\u001b[38;5;241m.\u001b[39mhindi)\n\u001b[1;32m---> 14\u001b[0m average\u001b[38;5;241m=\u001b[39m\u001b[38;5;28;43msum\u001b[39;49m\u001b[38;5;241;43m/\u001b[39;49m\u001b[38;5;241;43m3\u001b[39;49m\n",
      "\u001b[1;31mTypeError\u001b[0m: unsupported operand type(s) for /: 'builtin_function_or_method' and 'int'"
     ]
    }
   ],
   "source": [
    "class student:\n",
    "    def __init__(self,s,so,hi):\n",
    "        \n",
    "        self.science=s\n",
    "        self.social=so\n",
    "        self.hindi=hi\n",
    "    def average(self):\n",
    "        print(\"average of students\")\n",
    "        \n",
    "        print(\"science\",self.science)\n",
    "        print(\"social\",self.social)\n",
    "        print(\"hindi\",self.hindi)\n",
    "        \n",
    "        average=sum/3\n",
    "        \n",
    "if __name__==\"__main__\":\n",
    "    ram=student(20,90,80)\n",
    "    ram.average()\n",
    "\n",
    "    "
   ]
  },
  {
   "cell_type": "code",
   "execution_count": 1,
   "id": "eaef545f-ac4a-4877-9cfa-64ce968a8c02",
   "metadata": {},
   "outputs": [
    {
     "ename": "TypeError",
     "evalue": "demo() takes no arguments",
     "output_type": "error",
     "traceback": [
      "\u001b[1;31m---------------------------------------------------------------------------\u001b[0m",
      "\u001b[1;31mTypeError\u001b[0m                                 Traceback (most recent call last)",
      "Cell \u001b[1;32mIn[1], line 13\u001b[0m\n\u001b[0;32m     10\u001b[0m     \u001b[38;5;28;01mdef\u001b[39;00m \u001b[38;5;21moutput_Y\u001b[39m(\u001b[38;5;28mself\u001b[39m):\n\u001b[0;32m     11\u001b[0m         \u001b[38;5;28mprint\u001b[39m(\u001b[38;5;28mself\u001b[39m\u001b[38;5;241m.\u001b[39m_y)\n\u001b[1;32m---> 13\u001b[0m ob1\u001b[38;5;241m=\u001b[39m\u001b[43mdemo\u001b[49m\u001b[43m(\u001b[49m\u001b[38;5;241;43m1\u001b[39;49m\u001b[43m,\u001b[49m\u001b[38;5;241;43m2\u001b[39;49m\u001b[43m,\u001b[49m\u001b[38;5;241;43m3\u001b[39;49m\u001b[43m)\u001b[49m\n\u001b[0;32m     14\u001b[0m ob1\u001b[38;5;241m.\u001b[39moutput_X()\n\u001b[0;32m     15\u001b[0m ob1\u001b[38;5;241m.\u001b[39moutput_y()\n",
      "\u001b[1;31mTypeError\u001b[0m: demo() takes no arguments"
     ]
    }
   ],
   "source": [
    "class demo:\n",
    "    def __init(self,a,b,c):\n",
    "        self.x=a\n",
    "        self._y=b\n",
    "        self.__z=c\n",
    "    def output_Z(self):\n",
    "        print(self.__z)\n",
    "    def output_X(self):\n",
    "        print(self.x)\n",
    "    def output_Y(self):\n",
    "        print(self._y)\n",
    "\n",
    "ob1=demo(1,2,3)\n",
    "ob1.output_X()\n",
    "ob1.output_y()\n",
    "ob1.output_Z()\n",
    "print(\"public variable:\",ob1.x)\n",
    "\n",
    "            "
   ]
  },
  {
   "cell_type": "code",
   "execution_count": 4,
   "id": "524be2fd-de01-4aa1-8d76-b453be22527c",
   "metadata": {},
   "outputs": [
    {
     "name": "stdout",
     "output_type": "stream",
     "text": [
      "this is fn1\n",
      "this is fn2\n",
      "this is fn3\n",
      "this is fn4\n"
     ]
    }
   ],
   "source": [
    "class a:\n",
    "    def fun1(self):\n",
    "        print(\"this is fn1\")\n",
    "    def fun2(self):\n",
    "        print(\"this is fn2\")\n",
    "class b(a):\n",
    "    def fun3(self):\n",
    "        print(\"this is fn3\")\n",
    "    def fun4(self):\n",
    "        print(\"this is fn4\")\n",
    "\n",
    "if __name__==\"__main__\":\n",
    "    ob1=a()\n",
    "    ob2=b()\n",
    "    ob1.fun1()\n",
    "    ob1.fun2()\n",
    "    ob2.fun3()\n",
    "    ob2.fun4()\n",
    "   "
   ]
  },
  {
   "cell_type": "code",
   "execution_count": 5,
   "id": "3b0bc20f-6842-432f-a93d-7eb2c5d70dc4",
   "metadata": {},
   "outputs": [
    {
     "name": "stdout",
     "output_type": "stream",
     "text": [
      "constructor of class a\n"
     ]
    }
   ],
   "source": [
    "class a:\n",
    "    def __init__(self):\n",
    "        print(\"constructor of class a\")\n",
    "class b:   \n",
    "    def __init__(self):\n",
    "        print(\"constructor of class b\")\n",
    "class c:   \n",
    "    def __init__(self):\n",
    "        print(\"constructor of class c\")\n",
    "class d:    \n",
    "    def __init__(self):\n",
    "        print(\"constructor of class d\")\n",
    "\n",
    "if __name__==\"__main__\":\n",
    "    ob1=a()\n",
    "    "
   ]
  },
  {
   "cell_type": "code",
   "execution_count": 6,
   "id": "3e3f8f64-3da6-42c2-a7d4-c830b63fe18c",
   "metadata": {},
   "outputs": [
    {
     "name": "stdout",
     "output_type": "stream",
     "text": [
      "constructor of class c\n",
      "fun class c with self 1 5\n",
      "fun class c with self 1 2\n"
     ]
    }
   ],
   "source": [
    "class c:\n",
    "    def __init__(self):\n",
    "        print(\"constructor of class c\")\n",
    "    def abc(self,a,b=5):\n",
    "        print(\"fun class c with self\",a,b)\n",
    "\n",
    "ob=c()\n",
    "ob.abc(1)\n",
    "ob.abc(1,2)"
   ]
  },
  {
   "cell_type": "code",
   "execution_count": 25,
   "id": "e6175813-ba77-40bb-b5b3-cc305e844c7c",
   "metadata": {},
   "outputs": [
    {
     "name": "stdout",
     "output_type": "stream",
     "text": [
      "prof laptop having i5 8 gb 1 tb 6 hrs\n",
      "gaming laptop having i5 8 gb 1 tb iris\n"
     ]
    }
   ],
   "source": [
    "class laptop:\n",
    "    def __init__(self,p,r,s):\n",
    "        self.processor=p\n",
    "        self.ram=r\n",
    "        self.storage=s\n",
    "    \n",
    "class prof1(laptop):\n",
    "    def __init__(self,p,r,s,b):\n",
    "        self.battery=b\n",
    "        super().__init__(p,r,s)\n",
    "\n",
    "        \n",
    "class gaming(laptop):\n",
    "    def __init__(self,p,r,s,g):\n",
    "        self.grapic=g\n",
    "        super().__init__(p,r,s)\n",
    "\n",
    "prof1=professionallaptop('i5','8 gb','1 tb','6 hrs')\n",
    "game1=gaming('i5','8 gb','1 tb','iris')\n",
    "print(\"prof laptop having\",prof1.processor,prof1.ram,prof1.storage,prof1.battery)\n",
    "print(\"gaming laptop having\",game1.processor,game1.ram,game1.storage,game1.grapic)\n",
    "\n",
    "    \n",
    "        "
   ]
  },
  {
   "cell_type": "code",
   "execution_count": 26,
   "id": "43b58b85-8d1d-4590-8f77-93b1d5f0d923",
   "metadata": {},
   "outputs": [
    {
     "name": "stdout",
     "output_type": "stream",
     "text": [
      "Ticket booked Fare Price will be:  6550\n"
     ]
    }
   ],
   "source": [
    "class ticket:\n",
    "   \n",
    "    def __init__(self,D):\n",
    "        self.distance = int(D)\n",
    "        self.farePrice = None\n",
    "\n",
    "class gen(ticket):\n",
    "    def __init__(self,D):\n",
    "        super().__init__(D)\n",
    "    def print_ticket(self):\n",
    "        self.farePrice=50+(self.distance*2)\n",
    "        return self.farePrice\n",
    "        \n",
    "\n",
    "\n",
    "class slp(gen):\n",
    "    def __init__(self,D):\n",
    "        super().__init__(D)\n",
    "\n",
    "    def print_ticket(self):\n",
    "        self.farePrice=super().print_ticket()+(2*self.distance)\n",
    "        return self.farePrice\n",
    "\n",
    "class AC(slp):\n",
    "    def __init__(self,D):\n",
    "        super().__init__(D)\n",
    "    def print_ticket(self):\n",
    "        self.farePrice=super().print_ticket()+(4*self.distance)\n",
    "        return self.farePrice\n",
    "\n",
    "class FC(AC):\n",
    "    def __init__(self,D):\n",
    "        super().__init__(D)\n",
    "    def print_ticket(self):\n",
    "        self.farePrice=super().print_ticket()+(5*self.distance)\n",
    "        return self.farePrice\n",
    "\n",
    "\n",
    "jur = FC(500)\n",
    "print(\"Ticket booked Fare Price will be: \",jur.print_ticket())"
   ]
  },
  {
   "cell_type": "code",
   "execution_count": null,
   "id": "1c256d7e-18fc-4825-afaf-f2f436c1e04a",
   "metadata": {},
   "outputs": [],
   "source": []
  }
 ],
 "metadata": {
  "kernelspec": {
   "display_name": "Python 3 (ipykernel)",
   "language": "python",
   "name": "python3"
  },
  "language_info": {
   "codemirror_mode": {
    "name": "ipython",
    "version": 3
   },
   "file_extension": ".py",
   "mimetype": "text/x-python",
   "name": "python",
   "nbconvert_exporter": "python",
   "pygments_lexer": "ipython3",
   "version": "3.12.3"
  }
 },
 "nbformat": 4,
 "nbformat_minor": 5
}
