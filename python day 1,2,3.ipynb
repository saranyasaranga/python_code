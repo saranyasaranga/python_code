{
 "cells": [
  {
   "cell_type": "code",
   "execution_count": null,
   "id": "bc3efd8c-67b1-4a5e-82ef-45a816b6aab3",
   "metadata": {},
   "outputs": [],
   "source": [
    "a=5\n",
    "print(a)"
   ]
  },
  {
   "cell_type": "code",
   "execution_count": null,
   "id": "ee17d95f-5571-4913-8f96-0927ea68b81c",
   "metadata": {},
   "outputs": [],
   "source": [
    "print(type(a))"
   ]
  },
  {
   "cell_type": "code",
   "execution_count": null,
   "id": "63f1080c-82dc-43c8-9986-280ae02eedc7",
   "metadata": {},
   "outputs": [],
   "source": [
    "a=5.5\n",
    "print(type(a))\n"
   ]
  },
  {
   "cell_type": "code",
   "execution_count": null,
   "id": "866bd551-b4ae-4e01-b8b7-a64f9cd29563",
   "metadata": {},
   "outputs": [],
   "source": [
    "a=\"44\"\n",
    "print(type(a))"
   ]
  },
  {
   "cell_type": "code",
   "execution_count": null,
   "id": "17438f90-0b1d-459c-acbc-cbb54aeba5f8",
   "metadata": {},
   "outputs": [],
   "source": [
    "a=[5,6,10]\n",
    "print(type(a))\n"
   ]
  },
  {
   "cell_type": "code",
   "execution_count": null,
   "id": "f92a801c-ac3c-4d09-b18a-2063711d39b3",
   "metadata": {},
   "outputs": [],
   "source": [
    "a=(4,9)\n",
    "print(type(a))"
   ]
  },
  {
   "cell_type": "code",
   "execution_count": null,
   "id": "63be71ff-0e4d-4618-a18d-b2db05234af9",
   "metadata": {},
   "outputs": [],
   "source": [
    "a=range(0,10)\n",
    "print(type(a))"
   ]
  },
  {
   "cell_type": "code",
   "execution_count": null,
   "id": "bcafcfa8-ab48-4f67-9e65-1afd7bedc794",
   "metadata": {},
   "outputs": [],
   "source": [
    "a,b,c,d=[1,2,3]"
   ]
  },
  {
   "cell_type": "code",
   "execution_count": null,
   "id": "0beea315-0118-4f89-bae4-ebaa3ef305db",
   "metadata": {},
   "outputs": [],
   "source": [
    "a,b,c=[1,5,6,7]\n"
   ]
  },
  {
   "cell_type": "code",
   "execution_count": null,
   "id": "e34e95d5-6af7-432a-ba01-3df5ee4a7ac0",
   "metadata": {},
   "outputs": [],
   "source": [
    "a=2\n",
    "b=4\n",
    "print(a+b)\n",
    "print(a-b)\n",
    "print(a*b)\n",
    "print(a/b)\n",
    "print(a%b)"
   ]
  },
  {
   "cell_type": "code",
   "execution_count": null,
   "id": "3d07314f-20b4-4f1e-910f-014cd3529948",
   "metadata": {},
   "outputs": [],
   "source": [
    "a,b,c=input(\"enter three number: \").split()\n",
    "d=a+b+c\n",
    "print(d)"
   ]
  },
  {
   "cell_type": "code",
   "execution_count": null,
   "id": "6de7820c-ef17-482b-967c-ab536f80763e",
   "metadata": {},
   "outputs": [],
   "source": [
    "a=str(input())\n",
    "b=str(input())\n",
    "c=a+b\n",
    "print(c)"
   ]
  },
  {
   "cell_type": "code",
   "execution_count": null,
   "id": "e80f98f4-98e8-4d88-bf42-546668cb894b",
   "metadata": {},
   "outputs": [],
   "source": [
    "a,b,c,d=input(\"enter the numbers: \").split()\n",
    "e=str(a+b+c+d)\n",
    "print(e)"
   ]
  },
  {
   "cell_type": "code",
   "execution_count": null,
   "id": "987789d5-b69a-4174-855f-542aa4fdc4b8",
   "metadata": {},
   "outputs": [],
   "source": [
    "name=input(\"enter the name :\")\n",
    "price=int(input(\"enter the price: \"))\n",
    "if price==5:\n",
    "          print(name)\n",
    "          print(\"you can buy a dairy milk chocalate\")\n",
    "else:\n",
    "          print(name)\n",
    "          print(\"you can't buy it\")\n",
    "\n",
    "\n"
   ]
  },
  {
   "cell_type": "code",
   "execution_count": null,
   "id": "ce76e2f7-bcd0-4376-80d2-62a826fdfb30",
   "metadata": {},
   "outputs": [],
   "source": [
    "a=input()\n",
    "b=input()\n",
    "if a>b:\n",
    "    print(\"a is greater \")\n",
    "else:\n",
    "    print(\"b is greater \")"
   ]
  },
  {
   "cell_type": "code",
   "execution_count": null,
   "id": "42ac3a06-3e9b-4576-b23b-e554c365ddb2",
   "metadata": {},
   "outputs": [],
   "source": [
    "a=int(input())\n",
    "b=int(input())\n",
    "c=int(input())\n",
    "if a>b:\n",
    "    if a>c:\n",
    "       print(\"a is greater\")\n",
    "    else:\n",
    "       print(\"c is grater\")\n",
    "else:\n",
    "    if b>c:\n",
    "        print(\"b is greater\")\n",
    "    else:\n",
    "        print(\"c is greater\")"
   ]
  },
  {
   "cell_type": "code",
   "execution_count": null,
   "id": "a5438b5c-622f-4ee7-a6e4-e61d315bf993",
   "metadata": {},
   "outputs": [],
   "source": [
    "marks=int(input(\"enter your marks: \"))\n",
    "if marks>=90 and marks<100:\n",
    "    print(\"Grade=A+\")\n",
    "else:\n",
    "    if marks>=80 and marks<90:\n",
    "        print(\"Grade=A\")\n",
    "    else:\n",
    "        if marks>=70 and marks<80:\n",
    "            print(\"Grade=B+\")\n",
    "        else:\n",
    "            if marks>=60 and marks<70:\n",
    "                print(\"Grade=B\")\n",
    "            else:\n",
    "                if marks>=50 and marks<60:\n",
    "                    print(\"Grade=c\")\n",
    "                else:\n",
    "                    if marks>=40 and marks<50:\n",
    "                        print(\"Grade=D\")\n",
    "                    else:\n",
    "                        if marks>=30 and marks<40:\n",
    "                            print(\"Grade=E\")\n",
    "                        else:\n",
    "                            if marks>=0 and marks<30:\n",
    "                                print(\"Grade=F\")\n",
    "                            else:\n",
    "                                print(\"invalid marks\")\n",
    "                "
   ]
  },
  {
   "cell_type": "code",
   "execution_count": null,
   "id": "04d0bd46-033f-4ee2-bac8-98ffdaaa51a8",
   "metadata": {},
   "outputs": [],
   "source": [
    "human=int(input(\"enter the stage of the human\"))\n",
    "match human:\n",
    "case 1:if human>=0 and human<=1:\n",
    "       print(\"infant stage\")\n",
    "case 2:if human>=1 and human<="
   ]
  },
  {
   "cell_type": "code",
   "execution_count": null,
   "id": "6b7a65a5-e262-485c-9a0f-4cddcd5b7a2e",
   "metadata": {},
   "outputs": [],
   "source": [
    "for x in range(0,10):\n",
    "    print(x)"
   ]
  },
  {
   "cell_type": "code",
   "execution_count": null,
   "id": "73ff5d78-9a2c-4d0d-a0ad-135220a58d79",
   "metadata": {},
   "outputs": [],
   "source": [
    "x=0\n",
    "while x<10:\n",
    "    x=x+1\n",
    "    print(x)"
   ]
  },
  {
   "cell_type": "code",
   "execution_count": null,
   "id": "a6611494-24c4-4aa3-9cc9-98021313d6a5",
   "metadata": {},
   "outputs": [],
   "source": [
    "def full_pyramid(n):\n",
    "    for i in range(1,n+1):\n",
    "        for j in range(n-i):\n",
    "            print(\" \",end=\" \")\n",
    "        for k in range(1,2*i):\n",
    "            print(\"*\",end=\" \")\n",
    "            "
   ]
  },
  {
   "cell_type": "code",
   "execution_count": null,
   "id": "be010f71-1b48-47a5-bf25-97f9c64c25d7",
   "metadata": {},
   "outputs": [],
   "source": [
    "for y in range(0,10):\n",
    "    for x in range(0,y+1):\n",
    "        print(\"*\",end=\"\")\n",
    "    print()"
   ]
  },
  {
   "cell_type": "code",
   "execution_count": null,
   "id": "e63fc693-a8b4-493f-959a-7c88667bff3c",
   "metadata": {},
   "outputs": [],
   "source": [
    "a=0\n",
    "b=1\n",
    "n=int(input(\"enter the length of series:\"))\n",
    "print(a,b,end=\" \")\n",
    "\n",
    "for x in range(0,n-2):\n",
    "    c=a+b\n",
    "    print(c,end=\" \")\n",
    "    a=b\n",
    "    b=c\n",
    "    \n",
    "      "
   ]
  },
  {
   "cell_type": "code",
   "execution_count": null,
   "id": "97a69595-abdf-4569-9a55-b39d9ea823b8",
   "metadata": {},
   "outputs": [],
   "source": [
    "x=[1,2,3,5.5,6,7]\n",
    "for a in range(0,6):\n",
    "    print(x[a])"
   ]
  },
  {
   "cell_type": "code",
   "execution_count": null,
   "id": "d5509196-06cf-4bea-b758-eadae6dc5c23",
   "metadata": {
    "scrolled": true
   },
   "outputs": [],
   "source": [
    "y=[3,7,'*',6,7]\n",
    "print(y)\n",
    "print(type(y[2]))"
   ]
  },
  {
   "cell_type": "code",
   "execution_count": null,
   "id": "c5788bdf-e2de-417f-88d9-851e01becf99",
   "metadata": {},
   "outputs": [],
   "source": [
    "a=[1,2,3,4,5]\n",
    "b=a.copy()\n",
    "print(b)\n",
    "c=b.pop(3)\n",
    "print(c)\n",
    "print(b)\n",
    "b.append(10)\n",
    "print(b)\n",
    "print(b.index(3))\n",
    "b.count(3)\n",
    "b.count(4)\n",
    "b.insert(2,9)\n",
    "print(b)\n",
    "b.remove(3)\n",
    "print(b)\n",
    "b.sort()\n",
    "print(b)\n",
    "b.sort(reverse=True)\n",
    "print(b)\n",
    "print(len(b))\n",
    "print(len(a))\n"
   ]
  },
  {
   "cell_type": "code",
   "execution_count": null,
   "id": "c5829a3d-b85b-429a-82d0-f9be605d8d68",
   "metadata": {},
   "outputs": [],
   "source": [
    "a=[1,2,3,4,5]\n",
    "for x in a:\n",
    "    print(x)"
   ]
  },
  {
   "cell_type": "code",
   "execution_count": null,
   "id": "d79c041e-14c8-4187-b039-0d7a9b793e92",
   "metadata": {},
   "outputs": [],
   "source": [
    "L=[ int(item) for item in (input(\"Enter the elements of the list: \").split())]\n",
    "print(L)"
   ]
  },
  {
   "cell_type": "code",
   "execution_count": null,
   "id": "33f90199-a4bc-4a09-a697-6561890f0653",
   "metadata": {},
   "outputs": [],
   "source": [
    "a=(1,2,3,4,5.5,'saranya')\n",
    "print(a)\n",
    "b=list(a)\n",
    "print(b)\n",
    "b[5]='shiv'\n",
    "a=tuple(b)\n",
    "print(a)\n"
   ]
  },
  {
   "cell_type": "code",
   "execution_count": null,
   "id": "503d1505-7a6d-4cdf-801f-2e8c4cfb0a99",
   "metadata": {},
   "outputs": [],
   "source": [
    "a=[1,2,4,5,6]\n",
    "for x in range(-1,-1*(len(a)+1),-1):\n",
    "    print(a[x])"
   ]
  },
  {
   "cell_type": "code",
   "execution_count": null,
   "id": "2d0fd197-2290-476b-a3c8-0fe6ffed354f",
   "metadata": {},
   "outputs": [],
   "source": [
    "a=(1,2,3,4,5,6,7,8,9)\n",
    "for x in range(0,len(a)):\n",
    "    print(a[-1*(x+1)])"
   ]
  },
  {
   "cell_type": "code",
   "execution_count": null,
   "id": "3682c19e-13ec-41b0-98a6-e4788cc35cdb",
   "metadata": {},
   "outputs": [],
   "source": [
    "D={1:\"saranya\",2:\"saranga\",3:\"matada\"}\n",
    "print(D)\n",
    "print(D[2])\n",
    "print(D.keys())\n",
    "print(D.values())\n",
    "print(D.items())\n",
    "print(D.get(4))"
   ]
  },
  {
   "cell_type": "code",
   "execution_count": null,
   "id": "e3282419-4167-4e27-b86e-954daa94bcfc",
   "metadata": {},
   "outputs": [],
   "source": [
    "#write a program to take key and value input from the user and add to it dictionary if key is not present otherwise print key already exists and also find its corresponding value\n",
    "\n",
    "\n",
    "key=input(\"enter the key value\")\n",
    "value=str(input(\"enter the values\"))\n",
    "if key==len(value):\n",
    "    print(key[value])\n",
    "else:\n",
    "    print(\"key does not exist\")\n"
   ]
  },
  {
   "cell_type": "code",
   "execution_count": null,
   "id": "5367134c-9ab1-4013-8c1b-7fa631ba609d",
   "metadata": {},
   "outputs": [],
   "source": [
    "a=int(input())\n",
    "\n",
    "\n"
   ]
  },
  {
   "cell_type": "code",
   "execution_count": null,
   "id": "b1bebbc9-de79-497b-be68-7bcb80a1acd5",
   "metadata": {},
   "outputs": [],
   "source": []
  },
  {
   "cell_type": "code",
   "execution_count": null,
   "id": "be677694-b8e9-438d-a4f4-9926143528b2",
   "metadata": {},
   "outputs": [],
   "source": [
    "A=int(input())\n",
    "B=int(input())\n",
    "try:\n",
    "    c=A/B\n",
    "except:\n",
    "    print(\"we can't divide\")\n",
    "else:\n",
    "    print(\"division successfull\")\n",
    "    print(c)\n",
    "finally:\n",
    "    print(\"error handled\")"
   ]
  },
  {
   "cell_type": "code",
   "execution_count": null,
   "id": "9a8cd053-f5a2-449b-a4ba-4daa8f340a0f",
   "metadata": {},
   "outputs": [],
   "source": [
    "a=[1,2,3,4]\n",
    "i=int(input(\"enter the index: \"))\n",
    "try:\n",
    "    print(a[i])\n",
    "except:\n",
    "     print(\"indexnotfound\")\n",
    "    \n",
    "else:\n",
    "    print(\"index found\")\n",
    "    print(a[i])\n",
    "finally:\n",
    "   print(\"error handled\")\n"
   ]
  },
  {
   "cell_type": "code",
   "execution_count": null,
   "id": "d883bfc7-e129-4edd-90a6-fda328f49096",
   "metadata": {},
   "outputs": [],
   "source": [
    "try:\n",
    "    a=input()\n",
    "    b=input()\n",
    "    c=int(a)/int(b)\n",
    "    x=\"hello\"/3\n",
    "except ValueError:\n",
    "    print(\"value unable to convert\")\n",
    "except ZeroDivisionError:\n",
    "    print(\"can't divide by zero\")\n",
    "except:\n",
    "    print(\"some unknown error found\")\n",
    "else:\n",
    "    print(\"no error\")\n",
    "finally:\n",
    "    print(\"code excecution done\")\n",
    "    "
   ]
  },
  {
   "cell_type": "code",
   "execution_count": null,
   "id": "a40ba18c-8c64-423c-8b06-1525e8e92d4e",
   "metadata": {},
   "outputs": [],
   "source": [
    "#palindrome\n",
    "a=input()\n",
    "for i in range(0,int(len(a)/2)):\n",
    "    if a[i]!=a[(i+1)*-1]:\n",
    "        flag=1\n",
    "        break\n",
    "if flag:\n",
    "    print(\"not palindrome\")\n",
    "else:\n",
    "    print(\"palindrome\")\n",
    "    \n"
   ]
  },
  {
   "cell_type": "code",
   "execution_count": null,
   "id": "5f7e8ed1-8259-43df-a798-21082481af96",
   "metadata": {},
   "outputs": [],
   "source": [
    "n=int(input())\n",
    "flag=0\n",
    "for x in range(2,int(n/2+1)):\n",
    "    if n%x==0:\n",
    "        flag=1\n",
    "        break\n",
    "if flag:\n",
    "    print(\"not prime\")\n",
    "else:\n",
    "    print(\" prime\")\n"
   ]
  },
  {
   "cell_type": "code",
   "execution_count": null,
   "id": "f1c0126b-997b-4e61-a791-935d2b567097",
   "metadata": {},
   "outputs": [],
   "source": [
    "#file handling\n",
    "#create\n",
    "#read\n",
    "#update\n",
    "#delete\n",
    "#CRUD Operation"
   ]
  },
  {
   "cell_type": "markdown",
   "id": "886090a4-c48e-4285-9438-1fca11dadb3e",
   "metadata": {},
   "source": [
    "if __name__=='__main__':\n",
    "    filename=\"example.txt\"\n",
    "    new_filename=\"new_example.txt\"\n",
    "\n",
    "    def create_file():\n",
    "        create_file(filename)\n",
    "        read_file(filename)\n",
    "        append_file(filename,\"This is some additional text.\\n\")\n",
    "        read_file(filename)\n",
    "        rename_file(filename,new_filename)\n",
    "        read_file(new_filename)\n",
    "    "
   ]
  },
  {
   "cell_type": "code",
   "execution_count": null,
   "id": "1f023f8f-fa3f-45cb-a0ca-69081896940f",
   "metadata": {},
   "outputs": [],
   "source": [
    "import os\n",
    "\n",
    "with open(\"file1.txt\",'w')as f:\n",
    "    f.write(\"this is first text in the file\")\n",
    "    f.close()"
   ]
  },
  {
   "cell_type": "code",
   "execution_count": null,
   "id": "569de394-0b22-439e-a372-d137ffd4dc05",
   "metadata": {},
   "outputs": [],
   "source": [
    "import os\n",
    "\n",
    "with open(\"file1.txt\",'r') as f:\n",
    "    for a in f.read().split():\n",
    "        print(a)\n",
    "        print(\"111\")\n",
    "        f.close()"
   ]
  },
  {
   "cell_type": "code",
   "execution_count": null,
   "id": "a170986d-27c8-438d-9f48-bd01e67e0ed6",
   "metadata": {},
   "outputs": [],
   "source": [
    "import os\n",
    "\n",
    "with open(\"file1.txt\",'r') as f:\n",
    "    for a in f.read().split(\"\\n\"):\n",
    "        print(a)\n",
    "        print(\"100\")\n",
    "        f.close()\n",
    "        "
   ]
  },
  {
   "cell_type": "code",
   "execution_count": null,
   "id": "1d799694-6b6f-4f7d-aa70-bef21c2f12ab",
   "metadata": {},
   "outputs": [],
   "source": [
    "import os\n",
    "\n",
    "with open(\"file1.txt\",'a') as f:\n",
    "    f.write(\"this is the second text in file\")\n",
    "    print(\"\\n\")\n",
    "    f.close()"
   ]
  },
  {
   "cell_type": "code",
   "execution_count": 23,
   "id": "2ef72e9e-be7f-42e8-8935-1d9b269c12da",
   "metadata": {},
   "outputs": [
    {
     "name": "stdout",
     "output_type": "stream",
     "text": [
      "this is first text in the file\n",
      "this is the second text in file\n"
     ]
    }
   ],
   "source": [
    "import os\n",
    "\n",
    "with open(\"file1.txt\",'r') as f:\n",
    "    a=f.read()\n",
    "    print(a)\n",
    "    f.close()\n",
    "os.rename(\"file1.txt\",\"file2.txt\")"
   ]
  },
  {
   "cell_type": "code",
   "execution_count": 26,
   "id": "62e97da3-2f1a-4d47-bcb3-1711634f30b4",
   "metadata": {},
   "outputs": [
    {
     "name": "stdin",
     "output_type": "stream",
     "text": [
      "enter the fruit name 1.mango 2.banana 3.apple\n"
     ]
    }
   ],
   "source": [
    "import os\n",
    "\n",
    "with open(\"fruit.txt\",'w') as f:\n",
    "    f.write(input(\"enter the fruit name\"))\n",
    "    f.close\n",
    "\n"
   ]
  },
  {
   "cell_type": "code",
   "execution_count": 28,
   "id": "bc1b3ada-4445-4af6-9995-01194ba08c67",
   "metadata": {},
   "outputs": [
    {
     "name": "stdin",
     "output_type": "stream",
     "text": [
      "enter the file path fruit.txt\n",
      "enter the old input 3.apple\n",
      "enter the new input 3.watermelon\n"
     ]
    }
   ],
   "source": [
    "import os\n",
    "file_path=input(\"enter the file path\")\n",
    "old_input=input(\"enter the old input\")\n",
    "new_input=input(\"enter the new input\")\n",
    "\n",
    "with open(\"fruit.txt\",'r') as f:\n",
    "    b=f.read()\n",
    "modified_b=b.replace(old_input,new_input)\n",
    "with open(file_path,'w') as f:\n",
    "    f.write(modified_b)\n",
    "    "
   ]
  },
  {
   "cell_type": "code",
   "execution_count": null,
   "id": "ea0626e8-cf11-43a3-9740-872b6759244a",
   "metadata": {},
   "outputs": [],
   "source": []
  }
 ],
 "metadata": {
  "kernelspec": {
   "display_name": "Python 3 (ipykernel)",
   "language": "python",
   "name": "python3"
  },
  "language_info": {
   "codemirror_mode": {
    "name": "ipython",
    "version": 3
   },
   "file_extension": ".py",
   "mimetype": "text/x-python",
   "name": "python",
   "nbconvert_exporter": "python",
   "pygments_lexer": "ipython3",
   "version": "3.12.3"
  }
 },
 "nbformat": 4,
 "nbformat_minor": 5
}
